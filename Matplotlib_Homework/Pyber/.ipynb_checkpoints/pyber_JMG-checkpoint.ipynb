{
 "cells": [
  {
   "cell_type": "code",
   "execution_count": 10,
   "metadata": {
    "scrolled": true
   },
   "outputs": [
    {
     "data": {
      "text/plain": [
       "city            2375\n",
       "date            2375\n",
       "fare            2375\n",
       "ride_id         2375\n",
       "driver_count    2375\n",
       "dtype: int64"
      ]
     },
     "execution_count": 10,
     "metadata": {},
     "output_type": "execute_result"
    }
   ],
   "source": [
    "%matplotlib inline\n",
    "# Dependencies and Setup\n",
    "import matplotlib.pyplot as plt\n",
    "import pandas as pd\n",
    "import numpy as np\n",
    "\n",
    "# File to Load (Remember to change these)\n",
    "city_data = \"data/city_data.csv\"\n",
    "ride_data = \"data/ride_data.csv\"\n",
    "\n",
    "# Read the City and Ride Data\n",
    "City_Data_df = pd.read_csv(city_data)\n",
    "Ride_Data_df = pd.read_csv(ride_data)\n",
    "\n",
    "\n",
    "# Combine the data into a single dataset\n",
    "City_Ride = Ride_Data_df.merge(City_Data_df, on='city')\n",
    "\n",
    "## Display the data table for preview\n",
    "City_Ride.count().head()"
   ]
  },
  {
   "cell_type": "code",
   "execution_count": 11,
   "metadata": {},
   "outputs": [
    {
     "data": {
      "text/plain": [
       "city\n",
       "Amandaburgh      216\n",
       "Barajasview      572\n",
       "Barronchester    176\n",
       "Bethanyland      396\n",
       "Bradshawfurt      70\n",
       "Name: driver_count, dtype: int64"
      ]
     },
     "execution_count": 11,
     "metadata": {},
     "output_type": "execute_result"
    }
   ],
   "source": [
    "City_Group = City_Ride.groupby(\"city\")\n",
    "City_Group_Total = City_Group[\"driver_count\"].sum()\n",
    "City_Group_Total.head()"
   ]
  },
  {
   "cell_type": "code",
   "execution_count": null,
   "metadata": {
    "scrolled": true
   },
   "outputs": [],
   "source": []
  },
  {
   "cell_type": "markdown",
   "metadata": {},
   "source": [
    "## Bubble Plot of Ride Sharing Data"
   ]
  },
  {
   "cell_type": "code",
   "execution_count": 12,
   "metadata": {},
   "outputs": [
    {
     "data": {
      "text/html": [
       "<div>\n",
       "<style scoped>\n",
       "    .dataframe tbody tr th:only-of-type {\n",
       "        vertical-align: middle;\n",
       "    }\n",
       "\n",
       "    .dataframe tbody tr th {\n",
       "        vertical-align: top;\n",
       "    }\n",
       "\n",
       "    .dataframe thead th {\n",
       "        text-align: right;\n",
       "    }\n",
       "</style>\n",
       "<table border=\"1\" class=\"dataframe\">\n",
       "  <thead>\n",
       "    <tr style=\"text-align: right;\">\n",
       "      <th></th>\n",
       "      <th></th>\n",
       "      <th>date</th>\n",
       "      <th>fare</th>\n",
       "      <th>ride_id</th>\n",
       "      <th>driver_count</th>\n",
       "    </tr>\n",
       "    <tr>\n",
       "      <th>type</th>\n",
       "      <th>city</th>\n",
       "      <th></th>\n",
       "      <th></th>\n",
       "      <th></th>\n",
       "      <th></th>\n",
       "    </tr>\n",
       "  </thead>\n",
       "  <tbody>\n",
       "    <tr>\n",
       "      <th rowspan=\"5\" valign=\"top\">Rural</th>\n",
       "      <th>Bradshawfurt</th>\n",
       "      <td>10</td>\n",
       "      <td>10</td>\n",
       "      <td>10</td>\n",
       "      <td>10</td>\n",
       "    </tr>\n",
       "    <tr>\n",
       "      <th>Garzaport</th>\n",
       "      <td>3</td>\n",
       "      <td>3</td>\n",
       "      <td>3</td>\n",
       "      <td>3</td>\n",
       "    </tr>\n",
       "    <tr>\n",
       "      <th>Harringtonfort</th>\n",
       "      <td>6</td>\n",
       "      <td>6</td>\n",
       "      <td>6</td>\n",
       "      <td>6</td>\n",
       "    </tr>\n",
       "    <tr>\n",
       "      <th>Jessicaport</th>\n",
       "      <td>6</td>\n",
       "      <td>6</td>\n",
       "      <td>6</td>\n",
       "      <td>6</td>\n",
       "    </tr>\n",
       "    <tr>\n",
       "      <th>Lake Jamie</th>\n",
       "      <td>6</td>\n",
       "      <td>6</td>\n",
       "      <td>6</td>\n",
       "      <td>6</td>\n",
       "    </tr>\n",
       "  </tbody>\n",
       "</table>\n",
       "</div>"
      ],
      "text/plain": [
       "                      date  fare  ride_id  driver_count\n",
       "type  city                                             \n",
       "Rural Bradshawfurt      10    10       10            10\n",
       "      Garzaport          3     3        3             3\n",
       "      Harringtonfort     6     6        6             6\n",
       "      Jessicaport        6     6        6             6\n",
       "      Lake Jamie         6     6        6             6"
      ]
     },
     "execution_count": 12,
     "metadata": {},
     "output_type": "execute_result"
    }
   ],
   "source": [
    "# Obtain the x and y coordinates for each of the three city types\n",
    "#Average Fare, Total Number of Rides(Per City)\n",
    "City_Type = City_Ride.groupby(['type', \"city\"])\n",
    "City_Type.count().head()\n",
    "\n",
    "# Build the scatter plots for each city types\n",
    "\n",
    "\n",
    "#plt.scatter(Total_Ride, Avg_Fare, s=City_Group, marker=\"o\", facecolors=\"red\", edgecolors=\"black\", alpha=0.75)\n",
    "#plt.show()\n",
    "# Incorporate the other graph properties\n",
    "\n",
    "# Create a legend\n",
    "\n",
    "# Incorporate a text label regarding circle size\n",
    "\n",
    "# Save Figure\n"
   ]
  },
  {
   "cell_type": "code",
   "execution_count": 13,
   "metadata": {},
   "outputs": [
    {
     "data": {
      "text/plain": [
       "type      city                \n",
       "Rural     Bradshawfurt            40.064000\n",
       "          Garzaport               24.123333\n",
       "          Harringtonfort          33.470000\n",
       "          Jessicaport             36.013333\n",
       "          Lake Jamie              34.358333\n",
       "          Lake Latoyabury         26.061818\n",
       "          Michaelberg             34.997500\n",
       "          New Ryantown            43.278333\n",
       "          Newtonview              36.745000\n",
       "          North Holly             29.130000\n",
       "          North Jaime             30.802500\n",
       "          Penaborough             35.246000\n",
       "          Randallchester          29.742000\n",
       "          South Jennifer          35.264286\n",
       "          South Marychester       41.870000\n",
       "          South Saramouth         36.160000\n",
       "          Taylorhaven             42.263333\n",
       "          West Heather            33.890000\n",
       "Suburban  Barronchester           36.422500\n",
       "          Bethanyland             32.956111\n",
       "          Brandonfort             35.437368\n",
       "          Colemanland             30.894545\n",
       "          Davidfurt               31.995882\n",
       "          East Aaronbury          25.661111\n",
       "          East Danielview         31.560588\n",
       "          East Kentstad           29.823077\n",
       "          East Marymouth          30.835185\n",
       "          Grayville               27.763333\n",
       "          Josephside              32.858148\n",
       "          Lake Ann                30.890000\n",
       "                                    ...    \n",
       "Urban     Port Johnbury           23.006364\n",
       "          Port Samanthamouth      25.642800\n",
       "          Raymondhaven            21.480400\n",
       "          Reynoldsfurt            21.919474\n",
       "          Richardfort             22.373214\n",
       "          Roberthaven             23.729167\n",
       "          Robertport              23.060500\n",
       "          Rodneyfort              28.616957\n",
       "          Rogerston               22.097727\n",
       "          Royland                 20.570667\n",
       "          Simpsonburgh            23.355833\n",
       "          South Evanton           26.726129\n",
       "          South Jack              22.965263\n",
       "          South Karenland         26.535526\n",
       "          South Latoya            20.093158\n",
       "          South Michelleport      24.451613\n",
       "          South Phillip           28.571290\n",
       "          Valentineton            24.636364\n",
       "          West Angela             25.990000\n",
       "          West Anthony            24.736667\n",
       "          West Christopherberg    24.421154\n",
       "          West Ericstad           22.347222\n",
       "          West Gabriel            20.346087\n",
       "          West Heidi              23.133929\n",
       "          West Josephberg         21.720385\n",
       "          West Patrickchester     28.233125\n",
       "          West Robert             25.123871\n",
       "          West Samuelburgh        21.767600\n",
       "          Williamsstad            24.362174\n",
       "          Williamsview            26.599000\n",
       "Length: 120, dtype: float64"
      ]
     },
     "execution_count": 13,
     "metadata": {},
     "output_type": "execute_result"
    }
   ],
   "source": [
    "Total_Fare = City_Type[\"fare\"].sum()\n",
    "City_Count = City_Type[\"city\"].count()\n",
    "Avg_Fare = Total_Fare / City_Count\n",
    "Avg_Fare"
   ]
  },
  {
   "cell_type": "code",
   "execution_count": 14,
   "metadata": {},
   "outputs": [
    {
     "data": {
      "text/plain": [
       "type      city                \n",
       "Rural     Bradshawfurt            10\n",
       "          Garzaport                3\n",
       "          Harringtonfort           6\n",
       "          Jessicaport              6\n",
       "          Lake Jamie               6\n",
       "          Lake Latoyabury         11\n",
       "          Michaelberg             12\n",
       "          New Ryantown             6\n",
       "          Newtonview               4\n",
       "          North Holly              9\n",
       "          North Jaime              8\n",
       "          Penaborough              5\n",
       "          Randallchester           5\n",
       "          South Jennifer           7\n",
       "          South Marychester        8\n",
       "          South Saramouth          4\n",
       "          Taylorhaven              6\n",
       "          West Heather             9\n",
       "Suburban  Barronchester           16\n",
       "          Bethanyland             18\n",
       "          Brandonfort             19\n",
       "          Colemanland             22\n",
       "          Davidfurt               17\n",
       "          East Aaronbury           9\n",
       "          East Danielview         17\n",
       "          East Kentstad           13\n",
       "          East Marymouth          27\n",
       "          Grayville               15\n",
       "          Josephside              27\n",
       "          Lake Ann                12\n",
       "                                  ..\n",
       "Urban     Port Johnbury           22\n",
       "          Port Samanthamouth      25\n",
       "          Raymondhaven            25\n",
       "          Reynoldsfurt            19\n",
       "          Richardfort             28\n",
       "          Roberthaven             24\n",
       "          Robertport              20\n",
       "          Rodneyfort              23\n",
       "          Rogerston               22\n",
       "          Royland                 30\n",
       "          Simpsonburgh            24\n",
       "          South Evanton           31\n",
       "          South Jack              19\n",
       "          South Karenland         38\n",
       "          South Latoya            19\n",
       "          South Michelleport      31\n",
       "          South Phillip           31\n",
       "          Valentineton            22\n",
       "          West Angela             39\n",
       "          West Anthony            30\n",
       "          West Christopherberg    26\n",
       "          West Ericstad           18\n",
       "          West Gabriel            23\n",
       "          West Heidi              28\n",
       "          West Josephberg         26\n",
       "          West Patrickchester     16\n",
       "          West Robert             31\n",
       "          West Samuelburgh        25\n",
       "          Williamsstad            23\n",
       "          Williamsview            20\n",
       "Name: ride_id, Length: 120, dtype: int64"
      ]
     },
     "execution_count": 14,
     "metadata": {},
     "output_type": "execute_result"
    }
   ],
   "source": [
    "Total_Ride = City_Type[\"ride_id\"].count()\n",
    "Total_Ride"
   ]
  },
  {
   "cell_type": "code",
   "execution_count": 15,
   "metadata": {},
   "outputs": [
    {
     "data": {
      "text/plain": [
       "2973"
      ]
     },
     "execution_count": 15,
     "metadata": {},
     "output_type": "execute_result"
    }
   ],
   "source": [
    "Type = City_Data_df.groupby(['type'])\n",
    "Driver_Count = Type[\"driver_count\"].sum().head()\n",
    "sum(Driver_Count)"
   ]
  },
  {
   "cell_type": "code",
   "execution_count": 16,
   "metadata": {},
   "outputs": [
    {
     "data": {
      "text/plain": [
       "city                  type    \n",
       "Amandaburgh           Urban       12\n",
       "Barajasview           Urban       26\n",
       "Barronchester         Suburban    11\n",
       "Bethanyland           Suburban    22\n",
       "Bradshawfurt          Rural        7\n",
       "Brandonfort           Suburban    10\n",
       "Carriemouth           Urban       52\n",
       "Christopherfurt       Urban       41\n",
       "Colemanland           Suburban    23\n",
       "Davidfurt             Suburban    23\n",
       "Deanville             Urban       49\n",
       "East Aaronbury        Suburban     7\n",
       "East Danielview       Suburban    22\n",
       "East Kaylahaven       Urban       65\n",
       "East Kentstad         Suburban    20\n",
       "East Marymouth        Suburban     5\n",
       "Erikaland             Urban       37\n",
       "Garzaport             Rural        7\n",
       "Grahamburgh           Urban       61\n",
       "Grayville             Suburban     2\n",
       "Harringtonfort        Rural        4\n",
       "Huntermouth           Urban       37\n",
       "Hurleymouth           Urban       36\n",
       "Jerryton              Urban       64\n",
       "Jessicaport           Rural        1\n",
       "Johnton               Urban       27\n",
       "Joneschester          Urban       39\n",
       "Josephside            Suburban    25\n",
       "Justinberg            Urban       39\n",
       "Karenberg             Urban       22\n",
       "                                  ..\n",
       "South Evanton         Urban       11\n",
       "South Jack            Urban       46\n",
       "South Jennifer        Rural        7\n",
       "South Karenland       Urban        4\n",
       "South Latoya          Urban       10\n",
       "South Marychester     Rural        1\n",
       "South Michelleport    Urban       72\n",
       "South Phillip         Urban       38\n",
       "South Saramouth       Rural        7\n",
       "South Teresa          Suburban    21\n",
       "Taylorhaven           Rural        1\n",
       "Valentineton          Urban       45\n",
       "Veronicaberg          Suburban    20\n",
       "Victoriaport          Suburban    16\n",
       "West Angela           Urban       48\n",
       "West Anthony          Urban       70\n",
       "West Christopherberg  Urban       32\n",
       "West Ericstad         Urban       25\n",
       "West Gabriel          Urban       57\n",
       "West Hannah           Suburban    12\n",
       "West Heather          Rural        4\n",
       "West Heidi            Urban       28\n",
       "West Josephberg       Urban       45\n",
       "West Kimmouth         Suburban     4\n",
       "West Patrickchester   Urban       25\n",
       "West Robert           Urban       39\n",
       "West Samuelburgh      Urban       73\n",
       "Williamsonville       Suburban     2\n",
       "Williamsstad          Urban       59\n",
       "Williamsview          Urban       46\n",
       "Name: driver_count, Length: 120, dtype: int64"
      ]
     },
     "execution_count": 16,
     "metadata": {},
     "output_type": "execute_result"
    }
   ],
   "source": [
    "City = City_Data_df.groupby([\"city\", \"type\"])\n",
    "Driver_Count_City = City[\"driver_count\"].sum()\n",
    "Driver_Count_City\n",
    "# Driver_Count = City_Type[\"driver_count\"].count()\n",
    "# Driver_Count.sum()"
   ]
  },
  {
   "cell_type": "code",
   "execution_count": 17,
   "metadata": {},
   "outputs": [
    {
     "ename": "NameError",
     "evalue": "name 'Urban' is not defined",
     "output_type": "error",
     "traceback": [
      "\u001b[0;31m---------------------------------------------------------------------------\u001b[0m",
      "\u001b[0;31mNameError\u001b[0m                                 Traceback (most recent call last)",
      "\u001b[0;32m<ipython-input-17-1fa4fffd9147>\u001b[0m in \u001b[0;36m<module>\u001b[0;34m()\u001b[0m\n\u001b[1;32m     12\u001b[0m \u001b[0;31m#plt.ylabel('Note: Circles size correlates with driver count per city',rotation=0, ha='right', set_lable_position = \"right\")\u001b[0m\u001b[0;34m\u001b[0m\u001b[0;34m\u001b[0m\u001b[0m\n\u001b[1;32m     13\u001b[0m \u001b[0;31m#ax.yaxis.set_label_position(\"right\")\u001b[0m\u001b[0;34m\u001b[0m\u001b[0;34m\u001b[0m\u001b[0m\n\u001b[0;32m---> 14\u001b[0;31m \u001b[0mlegend\u001b[0m \u001b[0;34m=\u001b[0m \u001b[0mplt\u001b[0m\u001b[0;34m.\u001b[0m\u001b[0mlegend\u001b[0m\u001b[0;34m(\u001b[0m\u001b[0mtitle\u001b[0m\u001b[0;34m=\u001b[0m\u001b[0;34m\"City Types\"\u001b[0m\u001b[0;34m,\u001b[0m \u001b[0mhandles\u001b[0m\u001b[0;34m=\u001b[0m\u001b[0;34m[\u001b[0m\u001b[0mUrban\u001b[0m\u001b[0;34m,\u001b[0m \u001b[0mSuburban\u001b[0m\u001b[0;34m,\u001b[0m \u001b[0mRural\u001b[0m\u001b[0;34m]\u001b[0m\u001b[0;34m,\u001b[0m \u001b[0mfontsize\u001b[0m\u001b[0;34m=\u001b[0m\u001b[0;34m\"small\"\u001b[0m\u001b[0;34m,\u001b[0m \u001b[0mloc\u001b[0m\u001b[0;34m=\u001b[0m\u001b[0;34m\"upper right\"\u001b[0m\u001b[0;34m)\u001b[0m\u001b[0;34m\u001b[0m\u001b[0m\n\u001b[0m\u001b[1;32m     15\u001b[0m \u001b[0mplt\u001b[0m\u001b[0;34m.\u001b[0m\u001b[0mgrid\u001b[0m\u001b[0;34m(\u001b[0m\u001b[0;34m)\u001b[0m\u001b[0;34m\u001b[0m\u001b[0m\n\u001b[1;32m     16\u001b[0m \u001b[0mlegend\u001b[0m\u001b[0;34m.\u001b[0m\u001b[0mlegendHandles\u001b[0m\u001b[0;34m[\u001b[0m\u001b[0;36m0\u001b[0m\u001b[0;34m]\u001b[0m\u001b[0;34m.\u001b[0m\u001b[0m_sizes\u001b[0m \u001b[0;34m=\u001b[0m \u001b[0;34m[\u001b[0m\u001b[0;36m30\u001b[0m\u001b[0;34m]\u001b[0m\u001b[0;34m\u001b[0m\u001b[0m\n",
      "\u001b[0;31mNameError\u001b[0m: name 'Urban' is not defined"
     ]
    },
    {
     "data": {
      "image/png": "[encoded data removed]",
      "text/plain": [
       "<matplotlib.figure.Figure at 0x11fada550>"
      ]
     },
     "metadata": {},
     "output_type": "display_data"
    }
   ],
   "source": [
    "\n",
    "#fig, ax = plt.subplots()\n",
    "Urban_Scatter = plt.scatter(Total_Ride[\"Urban\"], Avg_Fare[\"Urban\"], s=City_Group_Total, c=\"coral\", label=\"Urban\", marker=\"o\", edgecolors=\"black\", alpha=0.75)\n",
    "Rural_Scatter = plt.scatter(Total_Ride[\"Rural\"], Avg_Fare[\"Rural\"], s=City_Group_Total, c=\"gold\", label=\"Rural\", marker=\"o\", edgecolors=\"black\", alpha=0.75)\n",
    "Suburban_Scatter = plt.scatter(Total_Ride[\"Suburban\"], Avg_Fare[\"Suburban\"], s=City_Group_Total, c=\"lightblue\", label=\"Suburban\", marker=\"o\", edgecolors=\"black\", alpha=0.75)\n",
    "\n",
    "plt.title(\"Pyber Ride Sharing Data (2016)\")\n",
    "plt.xlabel(\"Total Number of Rides (Per City)\")\n",
    "plt.ylabel(\"Average Fare ($)\")\n",
    "\n",
    "\n",
    "#plt.ylabel('Note: Circles size correlates with driver count per city',rotation=0, ha='right', set_lable_position = \"right\")\n",
    "#ax.yaxis.set_label_position(\"right\")\n",
    "legend = plt.legend(title=\"City Types\", handles=[Urban, Suburban, Rural], fontsize=\"small\", loc=\"upper right\")\n",
    "plt.grid()\n",
    "legend.legendHandles[0]._sizes = [30]\n",
    "legend.legendHandles[1]._sizes = [30]\n",
    "legend.legendHandles[2]._sizes = [30]\n",
    "\n",
    "##TEXT BOX\n",
    "#fig.text(1, .5, \"Note: Circles size correlates with driver count per city\", rotation=0, ha='right')\n",
    "        \n",
    "#fig.tight_layout()\n",
    "\n",
    "plt.show()"
   ]
  },
  {
   "cell_type": "code",
   "execution_count": null,
   "metadata": {},
   "outputs": [],
   "source": [
    "# Show plot\n",
    "plt.show()"
   ]
  },
  {
   "cell_type": "markdown",
   "metadata": {},
   "source": [
    "## Total Fares by City Type"
   ]
  },
  {
   "cell_type": "code",
   "execution_count": 18,
   "metadata": {},
   "outputs": [
    {
     "ename": "NameError",
     "evalue": "name 'Total_Rural_Fares' is not defined",
     "output_type": "error",
     "traceback": [
      "\u001b[0;31m---------------------------------------------------------------------------\u001b[0m",
      "\u001b[0;31mNameError\u001b[0m                                 Traceback (most recent call last)",
      "\u001b[0;32m<ipython-input-18-e591e4cc5b71>\u001b[0m in \u001b[0;36m<module>\u001b[0;34m()\u001b[0m\n\u001b[1;32m      2\u001b[0m \u001b[0mTotal_Rural_Rides\u001b[0m \u001b[0;34m=\u001b[0m \u001b[0msum\u001b[0m\u001b[0;34m(\u001b[0m\u001b[0mTotal_Ride\u001b[0m\u001b[0;34m[\u001b[0m\u001b[0;34m\"Rural\"\u001b[0m\u001b[0;34m]\u001b[0m\u001b[0;34m)\u001b[0m\u001b[0;34m\u001b[0m\u001b[0m\n\u001b[1;32m      3\u001b[0m \u001b[0mTotal_Sum_Rides\u001b[0m \u001b[0;34m=\u001b[0m \u001b[0msum\u001b[0m\u001b[0;34m(\u001b[0m\u001b[0mTotal_Ride\u001b[0m\u001b[0;34m)\u001b[0m\u001b[0;34m\u001b[0m\u001b[0m\n\u001b[0;32m----> 4\u001b[0;31m \u001b[0mRural_Percent_Fares\u001b[0m \u001b[0;34m=\u001b[0m \u001b[0mTotal_Rural_Fares\u001b[0m \u001b[0;34m/\u001b[0m \u001b[0mTotal_Sum_Fares\u001b[0m \u001b[0;34m*\u001b[0m \u001b[0;36m100\u001b[0m\u001b[0;34m\u001b[0m\u001b[0m\n\u001b[0m\u001b[1;32m      5\u001b[0m \u001b[0;34m\u001b[0m\u001b[0m\n\u001b[1;32m      6\u001b[0m \u001b[0mTotal_Urban_Fares\u001b[0m \u001b[0;34m=\u001b[0m \u001b[0msum\u001b[0m\u001b[0;34m(\u001b[0m\u001b[0mTotal_Fare\u001b[0m\u001b[0;34m[\u001b[0m\u001b[0;34m\"Urban\"\u001b[0m\u001b[0;34m]\u001b[0m\u001b[0;34m)\u001b[0m\u001b[0;34m\u001b[0m\u001b[0m\n",
      "\u001b[0;31mNameError\u001b[0m: name 'Total_Rural_Fares' is not defined"
     ]
    }
   ],
   "source": [
    "# Calculate Type Percents\n",
    "Total_Rural_Rides = sum(Total_Ride[\"Rural\"])\n",
    "Total_Sum_Rides = sum(Total_Ride)\n",
    "Rural_Percent_Fares = Total_Rural_Fares / Total_Sum_Fares * 100\n",
    "\n",
    "Total_Urban_Fares = sum(Total_Fare[\"Urban\"])\n",
    "Urban_Percent_Fares = Total_Urban_Fares / Total_Sum_Fares * 100\n",
    "\n",
    "Total_Suburban_Fares = sum(Total_Fare[\"Suburban\"])\n",
    "Suburban_Percent_Fares = Total_Suburban_Fares / Total_Sum_Fares * 100\n",
    "\n",
    "# Build Pie Chart\n",
    "\n",
    "# Save Figure\n"
   ]
  },
  {
   "cell_type": "code",
   "execution_count": 9,
   "metadata": {},
   "outputs": [
    {
     "ename": "NameError",
     "evalue": "name 'Urban_Percent_Fares' is not defined",
     "output_type": "error",
     "traceback": [
      "\u001b[0;31m---------------------------------------------------------------------------\u001b[0m",
      "\u001b[0;31mNameError\u001b[0m                                 Traceback (most recent call last)",
      "\u001b[0;32m<ipython-input-9-38e22582b186>\u001b[0m in \u001b[0;36m<module>\u001b[0;34m()\u001b[0m\n\u001b[1;32m      1\u001b[0m \u001b[0mlabels\u001b[0m \u001b[0;34m=\u001b[0m \u001b[0;34m[\u001b[0m\u001b[0;34m\"Urban\"\u001b[0m\u001b[0;34m,\u001b[0m \u001b[0;34m\"Suburban\"\u001b[0m\u001b[0;34m,\u001b[0m \u001b[0;34m\"Rural\"\u001b[0m\u001b[0;34m]\u001b[0m\u001b[0;34m\u001b[0m\u001b[0m\n\u001b[1;32m      2\u001b[0m \u001b[0;34m\u001b[0m\u001b[0m\n\u001b[0;32m----> 3\u001b[0;31m \u001b[0msizes\u001b[0m \u001b[0;34m=\u001b[0m \u001b[0;34m[\u001b[0m\u001b[0mUrban_Percent_Fares\u001b[0m\u001b[0;34m,\u001b[0m \u001b[0mRural_Percent_Fares\u001b[0m\u001b[0;34m,\u001b[0m \u001b[0mSuburban_Percent_Fares\u001b[0m\u001b[0;34m]\u001b[0m\u001b[0;34m\u001b[0m\u001b[0m\n\u001b[0m\u001b[1;32m      4\u001b[0m \u001b[0;34m\u001b[0m\u001b[0m\n\u001b[1;32m      5\u001b[0m \u001b[0mcolors\u001b[0m \u001b[0;34m=\u001b[0m \u001b[0;34m\"lightcoral\"\u001b[0m\u001b[0;34m,\u001b[0m \u001b[0;34m\"gold\"\u001b[0m\u001b[0;34m,\u001b[0m \u001b[0;34m\"lightskyblue\"\u001b[0m\u001b[0;34m\u001b[0m\u001b[0m\n",
      "\u001b[0;31mNameError\u001b[0m: name 'Urban_Percent_Fares' is not defined"
     ]
    }
   ],
   "source": [
    "labels = [\"Urban\", \"Suburban\", \"Rural\"]\n",
    "\n",
    "sizes = [Urban_Percent_Fares, Rural_Percent_Fares, Suburban_Percent_Fares]\n",
    "\n",
    "colors = \"lightcoral\", \"gold\", \"lightskyblue\"\n",
    "\n",
    "explode = (.1, 0, 0)\n",
    "\n",
    "plt.pie(sizes, labels=labels, colors=colors, \n",
    "        autopct=\"%1.1f%%\", startangle=-75, shadow=True, explode=explode)\n",
    "plt.title(\"% of Total Fares by City Type\")\n",
    "\n",
    "plt.show()"
   ]
  },
  {
   "cell_type": "code",
   "execution_count": null,
   "metadata": {},
   "outputs": [],
   "source": [
    "# Show Figure\n",
    "plt.show()"
   ]
  },
  {
   "cell_type": "markdown",
   "metadata": {},
   "source": [
    "## Total Rides by City Type"
   ]
  },
  {
   "cell_type": "code",
   "execution_count": null,
   "metadata": {},
   "outputs": [],
   "source": [
    "# Calculate Ride Percents\n",
    "Total_Rural_Rides = sum(Total_Ride[\"Rural\"])\n",
    "Total_Sum_Rides = sum(Total_Ride)\n",
    "Rural_Percent_Rides = Total_Rural_Rides / Total_Sum_Rides * 100\n",
    "\n",
    "Total_Suburban_Rides = sum(Total_Ride[\"Suburban\"])\n",
    "Suburban_Percent_Rides = Total_Suburban_Rides / Total_Sum_Rides * 100\n",
    "\n",
    "Total_Urban_Rides = sum(Total_Ride[\"Urban\"])\n",
    "Urban_Percent_Rides = Total_Urban_Rides / Total_Sum_Rides * 100\n",
    "\n",
    "Total_Sum_Rides\n",
    "\n",
    "# Build Pie Chart\n",
    "\n",
    "# Save Figure\n"
   ]
  },
  {
   "cell_type": "code",
   "execution_count": null,
   "metadata": {},
   "outputs": [],
   "source": [
    "labels = [\"Urban\", \"Suburban\", \"Rural\"]\n",
    "colors = \"lightcoral\", \"gold\", \"lightskyblue\"\n",
    "explode = (.1, 0, 0)\n",
    "sizes = [Urban_Percent_Rides, Rural_Percent_Rides, Suburban_Percent_Rides]\n",
    "\n",
    "plt.pie(sizes, labels=labels, colors=colors, \n",
    "        autopct=\"%1.1f%%\", startangle=-100, shadow=True, explode=explode)\n",
    "plt.title(\"% of Total Rides by City Type\")\n",
    "plt.show()"
   ]
  },
  {
   "cell_type": "code",
   "execution_count": null,
   "metadata": {},
   "outputs": [],
   "source": [
    "# Show Figure\n",
    "plt.show()"
   ]
  },
  {
   "cell_type": "markdown",
   "metadata": {},
   "source": [
    "## Total Drivers by City Type"
   ]
  },
  {
   "cell_type": "code",
   "execution_count": null,
   "metadata": {},
   "outputs": [],
   "source": [
    "# Calculate Driver Percents\n",
    "Rural_Percent_Drivers = Driver_Count[\"Rural\"] / sum(Driver_Count) * 100\n",
    "Suburban_Percent_Drivers = Driver_Count[\"Suburban\"] / sum(Driver_Count) * 100\n",
    "Urban_Percent_Drivers = Driver_Count[\"Urban\"] / sum(Driver_Count) * 100\n",
    "\n",
    "# # Build Pie Charts\n",
    "\n",
    "# Save Figure\n"
   ]
  },
  {
   "cell_type": "code",
   "execution_count": null,
   "metadata": {},
   "outputs": [],
   "source": [
    "labels = [\"Urban\", \"Suburban\", \"Rural\"]\n",
    "colors = \"lightcoral\", \"gold\", \"lightskyblue\"\n",
    "explode = (.1, 0, 0)\n",
    "sizes = [Urban_Percent_Drivers, Rural_Percent_Drivers, Suburban_Percent_Drivers]\n",
    "\n",
    "plt.pie(sizes, labels=labels, colors=colors, \n",
    "        autopct=\"%1.1f%%\", startangle=-135, shadow=True, explode=explode)\n",
    "plt.title(\"% of Total Drivers by City Type\")\n",
    "plt.show()"
   ]
  },
  {
   "cell_type": "code",
   "execution_count": null,
   "metadata": {
    "scrolled": true
   },
   "outputs": [],
   "source": [
    "# Show Figure\n",
    "plt.show()"
   ]
  },
  {
   "cell_type": "code",
   "execution_count": null,
   "metadata": {},
   "outputs": [],
   "source": []
  }
 ],
 "metadata": {
  "anaconda-cloud": {},
  "kernelspec": {
   "display_name": "Python 3",
   "language": "python",
   "name": "python3"
  },
  "language_info": {
   "codemirror_mode": {
    "name": "ipython",
    "version": 3
   },
   "file_extension": ".py",
   "mimetype": "text/x-python",
   "name": "python",
   "nbconvert_exporter": "python",
   "pygments_lexer": "ipython3",
   "version": "3.6.4"
  }
 },
 "nbformat": 4,
 "nbformat_minor": 2
}
